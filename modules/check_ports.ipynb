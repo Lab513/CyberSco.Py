{
 "cells": [
  {
   "cell_type": "code",
   "execution_count": 1,
   "metadata": {},
   "outputs": [],
   "source": [
    "from colorama import Fore, Back, Style      # Color in the Terminal"
   ]
  },
  {
   "cell_type": "code",
   "execution_count": 2,
   "metadata": {},
   "outputs": [],
   "source": [
    "def test_conn(cl):\n",
    "    '''\n",
    "    '''\n",
    "    try:\n",
    "        answ = cl.test_response()\n",
    "        if answ:\n",
    "            return True\n",
    "        else:\n",
    "            return False\n",
    "    except:\n",
    "        return False\n",
    "    "
   ]
  },
  {
   "cell_type": "code",
   "execution_count": 3,
   "metadata": {},
   "outputs": [],
   "source": [
    "def find_port(name_class):\n",
    "    '''\n",
    "    '''\n",
    "    for p in range(10):\n",
    "        print(p)\n",
    "        try:\n",
    "            cl = name_class(port='COM'+str(p))    \n",
    "        except:\n",
    "            pass\n",
    "        try:\n",
    "            if test_conn(cl):  \n",
    "                print(Fore.YELLOW +  f'########## the right port for { cl.__class__.__name__ } is port {p} !!!! ')\n",
    "                print(Style.RESET_ALL)\n",
    "                break\n",
    "        except:\n",
    "            pass"
   ]
  },
  {
   "cell_type": "code",
   "execution_count": 4,
   "metadata": {},
   "outputs": [
    {
     "name": "stdout",
     "output_type": "stream",
     "text": [
      "0\n",
      "cannot find the port for coolled \n",
      "1\n",
      "2\n",
      "cannot find the port for coolled \n",
      "3\n",
      "4\n",
      "5\n",
      "cannot find the port for coolled \n",
      "6\n",
      "\u001b[33m########## the right port for COOLLED is port 6 !!!! \n",
      "\u001b[0m\n",
      "0\n",
      "cannot find the port for olymp \n",
      "obj is {75: 'LUCPlanFlN 20x', 76: 'LUCPlanFlN 40x', 79: 'LUCPlanFlN 60x', 78: 'LUCPlanFl 40x', 31: 'PlanApo 100x O3', 70: 'PlanApo 60x O TIRFM-SP', 62: 'PlanApo 60x O/LSM', 60: 'PlanApo 40x W/LSM', 30: 'PlanApoN 60x O', 77: 'SLCPlanFl 40x', 45: 'UApo 30x 3/340', 47: 'UPlanSApo 40x', 48: 'UApo 40x W', 57: 'UPlanFlN 60x OI', 36: 'UPlanSApo 20x', 43: 'UPlanSApo 100X O', 39: 'UPlanFlN 40x O', 40: 'UPlanFlN 60x', 41: 'UPlanSApo 60x W', 42: 'UPlanApo 60x W/IR', 58: 'UPlanFlN 100x OI', 55: 'UPlanFlN 20x', 71: 'UPlanFl 40x O-SP', 56: 'UPlanFlN 40x'}\n",
      "############# self.dic_obj_rev {'LUCPlanFlN 20x': 75, 'LUCPlanFlN 40x': 76, 'LUCPlanFlN 60x': 79, 'LUCPlanFl 40x': 78, 'PlanApo 100x O3': 31, 'PlanApo 60x O TIRFM-SP': 70, 'PlanApo 60x O/LSM': 62, 'PlanApo 40x W/LSM': 60, 'PlanApoN 60x O': 30, 'SLCPlanFl 40x': 77, 'UApo 30x 3/340': 45, 'UPlanSApo 40x': 47, 'UApo 40x W': 48, 'UPlanFlN 60x OI': 57, 'UPlanSApo 20x': 36, 'UPlanSApo 100X O': 43, 'UPlanFlN 40x O': 39, 'UPlanFlN 60x': 40, 'UPlanSApo 60x W': 41, 'UPlanApo 60x W/IR': 42, 'UPlanFlN 100x OI': 58, 'UPlanFlN 20x': 55, 'UPlanFl 40x O-SP': 71, 'UPlanFlN 40x': 56}\n",
      "dic_obj_pos is {'4x': 1, '10x': 2, '20x': 3, '40x': 4, '60x': 5, '100x': 6}\n",
      "dic_pos_obj is {1: '4x', 2: '10x', 3: '20x', 4: '40x', 5: '60x', 6: '100x'}\n",
      "1\n",
      "obj is {75: 'LUCPlanFlN 20x', 76: 'LUCPlanFlN 40x', 79: 'LUCPlanFlN 60x', 78: 'LUCPlanFl 40x', 31: 'PlanApo 100x O3', 70: 'PlanApo 60x O TIRFM-SP', 62: 'PlanApo 60x O/LSM', 60: 'PlanApo 40x W/LSM', 30: 'PlanApoN 60x O', 77: 'SLCPlanFl 40x', 45: 'UApo 30x 3/340', 47: 'UPlanSApo 40x', 48: 'UApo 40x W', 57: 'UPlanFlN 60x OI', 36: 'UPlanSApo 20x', 43: 'UPlanSApo 100X O', 39: 'UPlanFlN 40x O', 40: 'UPlanFlN 60x', 41: 'UPlanSApo 60x W', 42: 'UPlanApo 60x W/IR', 58: 'UPlanFlN 100x OI', 55: 'UPlanFlN 20x', 71: 'UPlanFl 40x O-SP', 56: 'UPlanFlN 40x'}\n",
      "############# self.dic_obj_rev {'LUCPlanFlN 20x': 75, 'LUCPlanFlN 40x': 76, 'LUCPlanFlN 60x': 79, 'LUCPlanFl 40x': 78, 'PlanApo 100x O3': 31, 'PlanApo 60x O TIRFM-SP': 70, 'PlanApo 60x O/LSM': 62, 'PlanApo 40x W/LSM': 60, 'PlanApoN 60x O': 30, 'SLCPlanFl 40x': 77, 'UApo 30x 3/340': 45, 'UPlanSApo 40x': 47, 'UApo 40x W': 48, 'UPlanFlN 60x OI': 57, 'UPlanSApo 20x': 36, 'UPlanSApo 100X O': 43, 'UPlanFlN 40x O': 39, 'UPlanFlN 60x': 40, 'UPlanSApo 60x W': 41, 'UPlanApo 60x W/IR': 42, 'UPlanFlN 100x OI': 58, 'UPlanFlN 20x': 55, 'UPlanFl 40x O-SP': 71, 'UPlanFlN 40x': 56}\n",
      "dic_obj_pos is {'4x': 1, '10x': 2, '20x': 3, '40x': 4, '60x': 5, '100x': 6}\n",
      "dic_pos_obj is {1: '4x', 2: '10x', 3: '20x', 4: '40x', 5: '60x', 6: '100x'}\n",
      "ask for objective\n",
      "## ask_objective answer is 1OB 5\n",
      "\n",
      "curr_obj is 60x\n",
      "dic_wd is {'4x': 130, '10x': 31, '20x': 6, '40x': 1.8, '60x': 1.5, '100x': 1.3}\n",
      "### current objective is 60x\n",
      "### self.delta_af is 7500\n",
      "\u001b[33m########## the right port for OLYMP is port 1 !!!! \n",
      "\u001b[0m\n",
      "0\n",
      "cannot find the port for prior \n",
      "1\n",
      "2\n",
      "cannot find the port for prior \n",
      "3\n",
      "4\n",
      "\u001b[33m########## the right port for PRIOR is port 4 !!!! \n",
      "\u001b[0m\n"
     ]
    }
   ],
   "source": [
    "from CoolLedPe4000 import COOLLED\n",
    "find_port(COOLLED)\n",
    "from Olympuslx81 import OLYMP\n",
    "find_port(OLYMP)\n",
    "from Prior import PRIOR\n",
    "find_port(PRIOR)"
   ]
  },
  {
   "cell_type": "code",
   "execution_count": null,
   "metadata": {},
   "outputs": [],
   "source": []
  }
 ],
 "metadata": {
  "kernelspec": {
   "display_name": "Python 3",
   "language": "python",
   "name": "python3"
  },
  "language_info": {
   "codemirror_mode": {
    "name": "ipython",
    "version": 3
   },
   "file_extension": ".py",
   "mimetype": "text/x-python",
   "name": "python",
   "nbconvert_exporter": "python",
   "pygments_lexer": "ipython3",
   "version": "3.8.5"
  }
 },
 "nbformat": 4,
 "nbformat_minor": 4
}
