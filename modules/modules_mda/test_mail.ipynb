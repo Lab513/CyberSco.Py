{
 "cells": [
  {
   "cell_type": "code",
   "execution_count": 6,
   "metadata": {},
   "outputs": [],
   "source": [
    "from mail import GMAIL"
   ]
  },
  {
   "cell_type": "code",
   "execution_count": 7,
   "metadata": {},
   "outputs": [],
   "source": [
    "gm = GMAIL()"
   ]
  },
  {
   "cell_type": "code",
   "execution_count": 8,
   "metadata": {},
   "outputs": [],
   "source": [
    "def sending_mess_with_gmail(to, attach):\n",
    "    '''\n",
    "    Sending nb cell evolution by gmail..\n",
    "    '''\n",
    "\n",
    "    gm.send( to = to,\n",
    "                  subject = 'experiment',\n",
    "                  text = \"hello\",\n",
    "                  attach = attach\n",
    "                  )\n",
    "    print('sent message with gmail')\n",
    "\n",
    "def message_end_measurement():\n",
    "    '''\n",
    "    Messages, mails and alerts\n",
    "    '''\n",
    "    to = ['lionel.chiron@gmail.com','lchiron@curie.fr']\n",
    "    attach = ['la.svg']\n",
    "    sending_mess_with_gmail(to, attach)"
   ]
  },
  {
   "cell_type": "code",
   "execution_count": 9,
   "metadata": {},
   "outputs": [
    {
     "name": "stdout",
     "output_type": "stream",
     "text": [
      "sending a mail to lionel.chiron@gmail.com\n",
      "list !!!\n",
      "sending a mail to lchiron@curie.fr\n",
      "list !!!\n",
      "sent message with gmail\n"
     ]
    }
   ],
   "source": [
    "message_end_measurement()"
   ]
  },
  {
   "cell_type": "code",
   "execution_count": null,
   "metadata": {},
   "outputs": [],
   "source": []
  }
 ],
 "metadata": {
  "kernelspec": {
   "display_name": "Python 3",
   "language": "python",
   "name": "python3"
  },
  "language_info": {
   "codemirror_mode": {
    "name": "ipython",
    "version": 3
   },
   "file_extension": ".py",
   "mimetype": "text/x-python",
   "name": "python",
   "nbconvert_exporter": "python",
   "pygments_lexer": "ipython3",
   "version": "3.8.5"
  }
 },
 "nbformat": 4,
 "nbformat_minor": 4
}
