{
 "cells": [
  {
   "cell_type": "code",
   "execution_count": 9,
   "metadata": {},
   "outputs": [],
   "source": [
    "from Olympuslx81 import OLYMP\n",
    "from Prior import PRIOR\n",
    "from Evolve512 import EVOLVE\n",
    "from gates import GATES"
   ]
  },
  {
   "cell_type": "code",
   "execution_count": 10,
   "metadata": {},
   "outputs": [],
   "source": [
    "from mda import MDA"
   ]
  },
  {
   "cell_type": "code",
   "execution_count": 11,
   "metadata": {},
   "outputs": [
    {
     "name": "stdout",
     "output_type": "stream",
     "text": [
      "obj is {75: 'LUCPlanFlN 20x', 76: 'LUCPlanFlN 40x', 79: 'LUCPlanFlN 60x', 78: 'LUCPlanFl 40x', 31: 'PlanApo 100x O3', 70: 'PlanApo 60x O TIRFM-SP', 62: 'PlanApo 60x O/LSM', 30: 'UPlanSApo 60x O', 60: 'PlanApo 40x W/LSM', 77: 'SLCPlanFl 40x', 45: 'UApo 30x 3/340', 47: 'UPlanSApo 40x', 48: 'UApo 40x W', 57: 'UPlanFlN 60x OI', 36: 'UPlanSApo 20x', 43: 'UPlanSApo 100X O', 39: 'UPlanFlN 40x O', 40: 'UPlanFlN 60x', 41: 'UPlanSApo 60x W', 42: 'UPlanApo 60x W/IR', 58: 'UPlanFlN 100x OI', 55: 'UPlanFlN 20x', 71: 'UPlanFl 40x O-SP', 56: 'UPlanFlN 40x'}\n",
      "dic_pos_obj is {'4x': 1, '10x': 2, '20x': 3, '40x': 4, '60x': 5, '100x': 6}\n",
      "cannot open the cam\n",
      "cannot find the port for gates \n"
     ]
    }
   ],
   "source": [
    "ol = OLYMP()\n",
    "pr = PRIOR()\n",
    "ev = EVOLVE()\n",
    "ga = GATES()"
   ]
  },
  {
   "cell_type": "markdown",
   "metadata": {},
   "source": [
    "## config experiment"
   ]
  },
  {
   "cell_type": "code",
   "execution_count": 12,
   "metadata": {},
   "outputs": [],
   "source": [
    "mda = MDA(nb_pos=2,ldevices=[ol,pr,ev,ga])\n",
    "mda.delay = 1 \n",
    "mda.repeat = 2"
   ]
  },
  {
   "cell_type": "markdown",
   "metadata": {},
   "source": [
    "## load parameters"
   ]
  },
  {
   "cell_type": "code",
   "execution_count": 13,
   "metadata": {},
   "outputs": [],
   "source": [
    "lxy = [[-31140.44, -8651.6], [-45977.44, -1144.6]]"
   ]
  },
  {
   "cell_type": "code",
   "execution_count": 14,
   "metadata": {},
   "outputs": [],
   "source": [
    "mda.take_xy(lxy)"
   ]
  },
  {
   "cell_type": "markdown",
   "metadata": {},
   "source": [
    "## launch"
   ]
  },
  {
   "cell_type": "code",
   "execution_count": 15,
   "metadata": {},
   "outputs": [
    {
     "name": "stdout",
     "output_type": "stream",
     "text": [
      "0\n",
      "1\n",
      "closing the connexion\n",
      "closed OLYMP\n",
      "closing the connexion\n",
      "closed PRIOR\n",
      "cannot close EVOLVE\n",
      "closing the connexion\n",
      "cannot close GATES\n"
     ]
    }
   ],
   "source": [
    "mda.launch()"
   ]
  },
  {
   "cell_type": "code",
   "execution_count": null,
   "metadata": {},
   "outputs": [],
   "source": []
  }
 ],
 "metadata": {
  "kernelspec": {
   "display_name": "Python 3",
   "language": "python",
   "name": "python3"
  },
  "language_info": {
   "codemirror_mode": {
    "name": "ipython",
    "version": 3
   },
   "file_extension": ".py",
   "mimetype": "text/x-python",
   "name": "python",
   "nbconvert_exporter": "python",
   "pygments_lexer": "ipython3",
   "version": "3.8.5"
  }
 },
 "nbformat": 4,
 "nbformat_minor": 4
}
