{
 "cells": [
  {
   "cell_type": "code",
   "execution_count": null,
   "metadata": {},
   "outputs": [],
   "source": [
    "import os\n",
    "op = os.path\n",
    "opd, opj = op.dirname, op.join\n",
    "os.chdir(opd(opd(os.getcwd())))"
   ]
  },
  {
   "cell_type": "code",
   "execution_count": null,
   "metadata": {},
   "outputs": [],
   "source": [
    "from matplotlib import pyplot as plt\n",
    "from time import sleep\n",
    "from modules.devices.Evolve512 import EVOLVE"
   ]
  },
  {
   "cell_type": "code",
   "execution_count": null,
   "metadata": {},
   "outputs": [],
   "source": [
    "ev = EVOLVE()"
   ]
  },
  {
   "cell_type": "raw",
   "metadata": {},
   "source": [
    "ev.cam.start_live()"
   ]
  },
  {
   "cell_type": "markdown",
   "metadata": {},
   "source": [
    "ev.take_pic()"
   ]
  },
  {
   "cell_type": "raw",
   "metadata": {},
   "source": [
    "ev.save_pic('0.png')"
   ]
  },
  {
   "cell_type": "raw",
   "metadata": {},
   "source": [
    "ev.cam.speed_table_index = 0\n",
    "ev.frame = ev.cam.get_frame(exp_time=20)\n",
    "plt.imshow(ev.frame)"
   ]
  },
  {
   "cell_type": "raw",
   "metadata": {},
   "source": [
    "for i in range(20):\n",
    "    sleep(0.2)\n",
    "    ev.take_pic(f'{i}.png')"
   ]
  },
  {
   "cell_type": "code",
   "execution_count": 4,
   "metadata": {},
   "outputs": [
    {
     "name": "stdout",
     "output_type": "stream",
     "text": [
      "Using matplotlib backend: Qt5Agg\n"
     ]
    }
   ],
   "source": [
    "%matplotlib"
   ]
  },
  {
   "cell_type": "code",
   "execution_count": 15,
   "metadata": {},
   "outputs": [
    {
     "name": "stdout",
     "output_type": "stream",
     "text": [
      "ext is .tiff\n",
      "bpp is 8\n",
      "self.frame.min() = 863\n",
      "self.frame.max() = 12096\n"
     ]
    }
   ],
   "source": [
    "ev.take_pic(f'uu.tiff', bpp=8, allow_contrast=False)"
   ]
  },
  {
   "cell_type": "code",
   "execution_count": 14,
   "metadata": {},
   "outputs": [
    {
     "name": "stdout",
     "output_type": "stream",
     "text": [
      "ext is .png\n",
      "bpp is 16\n",
      "self.frame.min() = 873\n",
      "self.frame.max() = 12457\n"
     ]
    }
   ],
   "source": [
    "ev.take_pic(f'zz.png', bpp=16, allow_contrast=False)"
   ]
  },
  {
   "cell_type": "code",
   "execution_count": null,
   "metadata": {},
   "outputs": [],
   "source": [
    "type(ev.frame)"
   ]
  },
  {
   "cell_type": "code",
   "execution_count": null,
   "metadata": {},
   "outputs": [],
   "source": [
    "plt.imshow(ev.frame, cmap='gray')"
   ]
  },
  {
   "cell_type": "code",
   "execution_count": null,
   "metadata": {},
   "outputs": [],
   "source": [
    "ev.frame.dtype"
   ]
  },
  {
   "cell_type": "code",
   "execution_count": null,
   "metadata": {},
   "outputs": [],
   "source": [
    "ev.frame.max()"
   ]
  },
  {
   "cell_type": "code",
   "execution_count": null,
   "metadata": {},
   "outputs": [],
   "source": [
    "ev.frame.min()"
   ]
  },
  {
   "cell_type": "code",
   "execution_count": null,
   "metadata": {},
   "outputs": [],
   "source": [
    "ev.frame.shape"
   ]
  },
  {
   "cell_type": "markdown",
   "metadata": {},
   "source": [
    "## test live"
   ]
  },
  {
   "cell_type": "raw",
   "metadata": {},
   "source": [
    "ev.cam.start_live()"
   ]
  },
  {
   "cell_type": "raw",
   "metadata": {},
   "source": [
    "ev.cam.speed_table_index = 0\n",
    "frame = ev.cam.get_live_frame()"
   ]
  },
  {
   "cell_type": "raw",
   "metadata": {},
   "source": [
    "plt.imshow(frame.copy())"
   ]
  },
  {
   "cell_type": "raw",
   "metadata": {},
   "source": [
    "ev.cam.speed_table_index = 0\n",
    "frame = ev.cam.get_live_frame()\n",
    "plt.imshow(frame)"
   ]
  },
  {
   "cell_type": "raw",
   "metadata": {},
   "source": [
    "import cv2\n",
    "import time\n",
    "\n",
    "camera = cv2.VideoCapture(0)\n",
    "_, img = camera.read()\n",
    "ts = time.time()"
   ]
  },
  {
   "cell_type": "raw",
   "metadata": {},
   "source": [
    "print(type(img))"
   ]
  },
  {
   "cell_type": "raw",
   "metadata": {},
   "source": [
    "cv2.imwrite(\"bip.png\",img)"
   ]
  },
  {
   "cell_type": "code",
   "execution_count": null,
   "metadata": {},
   "outputs": [],
   "source": [
    "for i in range(20):\n",
    "    sleep(0.1)\n",
    "    ev.take_pic(f'{i}.png')"
   ]
  },
  {
   "cell_type": "code",
   "execution_count": null,
   "metadata": {},
   "outputs": [],
   "source": [
    "2**16"
   ]
  },
  {
   "cell_type": "raw",
   "metadata": {},
   "source": [
    "https://github.com/Photometrics/PyVCAM\n",
    "https://www.photometrics.com/support/download/pvcam"
   ]
  },
  {
   "cell_type": "markdown",
   "metadata": {},
   "source": [
    "## tests"
   ]
  },
  {
   "cell_type": "code",
   "execution_count": null,
   "metadata": {},
   "outputs": [],
   "source": [
    "from pyvcam import pvc\n",
    "from pyvcam.camera import Camera"
   ]
  },
  {
   "cell_type": "code",
   "execution_count": null,
   "metadata": {},
   "outputs": [],
   "source": [
    "pvc.init_pvcam()                           # Initialize PVCAM"
   ]
  },
  {
   "cell_type": "code",
   "execution_count": null,
   "metadata": {},
   "outputs": [],
   "source": [
    "self.cam = next(Camera.detect_camera())    # Use generator to find first camera."
   ]
  },
  {
   "cell_type": "code",
   "execution_count": null,
   "metadata": {},
   "outputs": [],
   "source": [
    "self.cam.open()                            # Open the camera."
   ]
  },
  {
   "cell_type": "code",
   "execution_count": null,
   "metadata": {},
   "outputs": [],
   "source": [
    "dir(Camera)"
   ]
  },
  {
   "cell_type": "code",
   "execution_count": null,
   "metadata": {},
   "outputs": [],
   "source": []
  }
 ],
 "metadata": {
  "kernelspec": {
   "display_name": "Python 3",
   "language": "python",
   "name": "python3"
  },
  "language_info": {
   "codemirror_mode": {
    "name": "ipython",
    "version": 3
   },
   "file_extension": ".py",
   "mimetype": "text/x-python",
   "name": "python",
   "nbconvert_exporter": "python",
   "pygments_lexer": "ipython3",
   "version": "3.8.5"
  }
 },
 "nbformat": 4,
 "nbformat_minor": 4
}
