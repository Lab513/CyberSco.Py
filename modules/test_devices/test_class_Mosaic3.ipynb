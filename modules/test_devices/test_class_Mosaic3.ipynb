{
 "cells": [
  {
   "cell_type": "code",
   "execution_count": 1,
   "metadata": {},
   "outputs": [],
   "source": [
    "import os\n",
    "import subprocess\n",
    "import shutil as sh"
   ]
  },
  {
   "cell_type": "code",
   "execution_count": 2,
   "metadata": {},
   "outputs": [],
   "source": [
    "op = os.path\n",
    "opd = op.dirname\n",
    "opj = op.join\n",
    "os.chdir( opd( opd( os.getcwd() ) )  )\n",
    "main_dir = os.getcwd()"
   ]
  },
  {
   "cell_type": "code",
   "execution_count": null,
   "metadata": {},
   "outputs": [],
   "source": [
    "mask = 'snake'  # circle, snake\n",
    "addr_img_dmd = 'modules/devices/DMD/mosaic/image_for_mosaic.png'\n",
    "sh.copy( f'interface/static/dmd/{ mask }.png', addr_img_dmd )\n",
    "os.chdir( 'modules/devices/DMD/mosaic' )\n",
    "os.system( 'mosaic_img.exe' )\n",
    "os.chdir( main_dir )"
   ]
  }
 ],
 "metadata": {
  "kernelspec": {
   "display_name": "Python 3",
   "language": "python",
   "name": "python3"
  },
  "language_info": {
   "codemirror_mode": {
    "name": "ipython",
    "version": 3
   },
   "file_extension": ".py",
   "mimetype": "text/x-python",
   "name": "python",
   "nbconvert_exporter": "python",
   "pygments_lexer": "ipython3",
   "version": "3.8.5"
  }
 },
 "nbformat": 4,
 "nbformat_minor": 2
}
