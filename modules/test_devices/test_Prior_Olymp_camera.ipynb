{
 "cells": [
  {
   "cell_type": "code",
   "execution_count": 1,
   "metadata": {},
   "outputs": [],
   "source": [
    "import os\n",
    "op = os.path\n",
    "opd = op.dirname\n",
    "os.chdir(opd(os.getcwd()))"
   ]
  },
  {
   "cell_type": "code",
   "execution_count": 2,
   "metadata": {},
   "outputs": [
    {
     "name": "stdout",
     "output_type": "stream",
     "text": [
      "Using matplotlib backend: Qt5Agg\n"
     ]
    }
   ],
   "source": [
    "%matplotlib\n",
    "##\n",
    "from time import sleep\n",
    "import numpy as np\n",
    "from matplotlib import pyplot as plt\n",
    "##\n",
    "from Olympuslx81 import OLYMP\n",
    "from Prior import PRIOR\n",
    "from Evolve512 import EVOLVE"
   ]
  },
  {
   "cell_type": "code",
   "execution_count": 3,
   "metadata": {},
   "outputs": [
    {
     "name": "stdout",
     "output_type": "stream",
     "text": [
      "ask for objective\n",
      "## ask_objective answer is 1OB 5\n",
      "2LOG\n",
      "curr_obj is 60x\n",
      "dic_wd is {'4x': 130, '10x': 31, '20x': 6, '40x': 1.8, '60x': 1.5, '100x': 1.3}\n",
      "### current objective is 60x\n",
      "### self.delta_af is 15000\n",
      "#####\n",
      "\u001b[32mopened correctly the Evolve512 camera  !!\n",
      "\u001b[0m\n",
      "#####\n"
     ]
    }
   ],
   "source": [
    "ol = OLYMP()\n",
    "pr = PRIOR()\n",
    "ev = EVOLVE()"
   ]
  },
  {
   "cell_type": "code",
   "execution_count": 4,
   "metadata": {},
   "outputs": [
    {
     "name": "stdout",
     "output_type": "stream",
     "text": [
      "########################################\n",
      "\u001b[33min set_zpos, val is 780000\n",
      "\u001b[0m\n",
      "########## pos found is  797750 !!!!\n",
      "########## pos found is  780000 !!!!\n",
      "final zpos for set_pos, val is 780000\n",
      "answ 0 \n",
      "\n"
     ]
    },
    {
     "ename": "AttributeError",
     "evalue": "'OLYMP' object has no attribute 'AFFLMT'",
     "output_type": "error",
     "traceback": [
      "\u001b[1;31m---------------------------------------------------------------------------\u001b[0m",
      "\u001b[1;31mAttributeError\u001b[0m                            Traceback (most recent call last)",
      "\u001b[1;32m<ipython-input-4-1fa5e3d985ad>\u001b[0m in \u001b[0;36m<module>\u001b[1;34m\u001b[0m\n\u001b[0;32m     10\u001b[0m     \u001b[0mprint\u001b[0m\u001b[1;33m(\u001b[0m\u001b[1;34mf'answ 0 {answ}'\u001b[0m\u001b[1;33m)\u001b[0m\u001b[1;33m\u001b[0m\u001b[1;33m\u001b[0m\u001b[0m\n\u001b[0;32m     11\u001b[0m     \u001b[1;31m#sleep(2)\u001b[0m\u001b[1;33m\u001b[0m\u001b[1;33m\u001b[0m\u001b[1;33m\u001b[0m\u001b[0m\n\u001b[1;32m---> 12\u001b[1;33m     \u001b[0mol\u001b[0m\u001b[1;33m.\u001b[0m\u001b[0maf\u001b[0m\u001b[1;33m(\u001b[0m\u001b[1;33m)\u001b[0m\u001b[1;33m\u001b[0m\u001b[1;33m\u001b[0m\u001b[0m\n\u001b[0m\u001b[0;32m     13\u001b[0m     \u001b[0mansw\u001b[0m \u001b[1;33m=\u001b[0m \u001b[0mol\u001b[0m\u001b[1;33m.\u001b[0m\u001b[0mreceive\u001b[0m\u001b[1;33m(\u001b[0m\u001b[1;36m13\u001b[0m\u001b[1;33m)\u001b[0m\u001b[1;33m\u001b[0m\u001b[1;33m\u001b[0m\u001b[0m\n\u001b[0;32m     14\u001b[0m     \u001b[0mprint\u001b[0m\u001b[1;33m(\u001b[0m\u001b[1;34mf'answ 1 {answ}'\u001b[0m\u001b[1;33m)\u001b[0m\u001b[1;33m\u001b[0m\u001b[1;33m\u001b[0m\u001b[0m\n",
      "\u001b[1;32m~\\Desktop\\Cyberscope.py\\modules\\modules_Olymp\\Olymp_autofocus.py\u001b[0m in \u001b[0;36maf\u001b[1;34m(self)\u001b[0m\n\u001b[0;32m     94\u001b[0m         \u001b[0mself\u001b[0m\u001b[1;33m.\u001b[0m\u001b[0memit\u001b[0m\u001b[1;33m(\u001b[0m\u001b[1;34m'2FARLMT 10'\u001b[0m\u001b[1;33m)\u001b[0m                                                \u001b[1;31m# lim inf for microscope\u001b[0m\u001b[1;33m\u001b[0m\u001b[1;33m\u001b[0m\u001b[0m\n\u001b[0;32m     95\u001b[0m         \u001b[0mself\u001b[0m\u001b[1;33m.\u001b[0m\u001b[0memit\u001b[0m\u001b[1;33m(\u001b[0m\u001b[1;34m'2NEARLMT 3000000'\u001b[0m\u001b[1;33m)\u001b[0m                                          \u001b[1;31m# lim sup for microscope\u001b[0m\u001b[1;33m\u001b[0m\u001b[1;33m\u001b[0m\u001b[0m\n\u001b[1;32m---> 96\u001b[1;33m         \u001b[0mself\u001b[0m\u001b[1;33m.\u001b[0m\u001b[0memit\u001b[0m\u001b[1;33m(\u001b[0m\u001b[1;34mf'2AFFLMT { self.AFFLMT }'\u001b[0m\u001b[1;33m)\u001b[0m                                  \u001b[1;31m# lim autofocus inf, decided at offset\u001b[0m\u001b[1;33m\u001b[0m\u001b[1;33m\u001b[0m\u001b[0m\n\u001b[0m\u001b[0;32m     97\u001b[0m         \u001b[0mself\u001b[0m\u001b[1;33m.\u001b[0m\u001b[0memit\u001b[0m\u001b[1;33m(\u001b[0m\u001b[1;34mf'2AFNLMT { self.AFNLMT }'\u001b[0m\u001b[1;33m)\u001b[0m                                  \u001b[1;31m# lim autofocus sup, decided at offset\u001b[0m\u001b[1;33m\u001b[0m\u001b[1;33m\u001b[0m\u001b[0m\n\u001b[0;32m     98\u001b[0m         \u001b[0mself\u001b[0m\u001b[1;33m.\u001b[0m\u001b[0memit\u001b[0m\u001b[1;33m(\u001b[0m\u001b[1;34m'2aftim 4'\u001b[0m\u001b[1;33m)\u001b[0m\u001b[1;33m\u001b[0m\u001b[1;33m\u001b[0m\u001b[0m\n",
      "\u001b[1;31mAttributeError\u001b[0m: 'OLYMP' object has no attribute 'AFFLMT'"
     ]
    }
   ],
   "source": [
    "for j,i in enumerate(range(6)):\n",
    "    pr.relative_move_to(0.00, 0.00)\n",
    "    ol.objective = '20x'\n",
    "    print('########################################')\n",
    "    if False:\n",
    "        new_pos = int(np.random.randint(5,8)*1e4+7e5)\n",
    "        print(f'new_pos is {new_pos}')\n",
    "    ol.set_zpos(780000)\n",
    "    answ = ol.receive(13)\n",
    "    print(f'answ 0 {answ}')\n",
    "    #sleep(2)\n",
    "    ol.af()\n",
    "    answ = ol.receive(13)\n",
    "    print(f'answ 1 {answ}')\n",
    "    sleep(1)\n",
    "    print(j)\n",
    "    print('******* result is ')\n",
    "    ol.ask_zpos()"
   ]
  },
  {
   "cell_type": "code",
   "execution_count": null,
   "metadata": {},
   "outputs": [],
   "source": [
    "def move_in_pic(pos):\n",
    "    '''\n",
    "    '''\n",
    "    fact = 200/512\n",
    "    x = int(fact*pos[0])\n",
    "    y = int(fact*pos[1])\n",
    "    pr.relative_move_to(x,y)"
   ]
  },
  {
   "cell_type": "raw",
   "metadata": {},
   "source": [
    "114 342"
   ]
  },
  {
   "cell_type": "code",
   "execution_count": null,
   "metadata": {},
   "outputs": [],
   "source": [
    "np.random.randint(1,5)"
   ]
  },
  {
   "cell_type": "code",
   "execution_count": null,
   "metadata": {},
   "outputs": [],
   "source": [
    "pr.relative_move_to(0.00, -6000.00)"
   ]
  },
  {
   "cell_type": "code",
   "execution_count": null,
   "metadata": {},
   "outputs": [],
   "source": [
    "ol.set_zpos(780000)"
   ]
  },
  {
   "cell_type": "code",
   "execution_count": null,
   "metadata": {},
   "outputs": [],
   "source": [
    "ol.ask_zpos()"
   ]
  },
  {
   "cell_type": "code",
   "execution_count": null,
   "metadata": {},
   "outputs": [],
   "source": [
    "ol.flush()"
   ]
  },
  {
   "cell_type": "markdown",
   "metadata": {},
   "source": [
    "## move and observe (calibration)"
   ]
  },
  {
   "cell_type": "code",
   "execution_count": null,
   "metadata": {},
   "outputs": [],
   "source": [
    "move_in_pic([0,3*49])\n",
    "ev.take_pic(f'uu.tiff')\n",
    "plt.imshow(ev.frame, cmap='gray')"
   ]
  },
  {
   "cell_type": "code",
   "execution_count": null,
   "metadata": {},
   "outputs": [],
   "source": [
    "ev.take_pic(f'uu.tiff')\n",
    "plt.imshow(ev.frame, cmap='gray')"
   ]
  },
  {
   "cell_type": "code",
   "execution_count": null,
   "metadata": {},
   "outputs": [],
   "source": [
    "ol.set_zpos(791000)"
   ]
  },
  {
   "cell_type": "code",
   "execution_count": null,
   "metadata": {},
   "outputs": [],
   "source": [
    "ol.calc_offset()"
   ]
  },
  {
   "cell_type": "code",
   "execution_count": null,
   "metadata": {},
   "outputs": [],
   "source": [
    "ol.set_zpos(760215)"
   ]
  },
  {
   "cell_type": "code",
   "execution_count": null,
   "metadata": {},
   "outputs": [],
   "source": [
    "ol.refocus()"
   ]
  },
  {
   "cell_type": "code",
   "execution_count": null,
   "metadata": {},
   "outputs": [],
   "source": [
    "ol.ask_objective()"
   ]
  },
  {
   "cell_type": "markdown",
   "metadata": {},
   "source": [
    "## AF and zpos"
   ]
  },
  {
   "cell_type": "code",
   "execution_count": null,
   "metadata": {},
   "outputs": [],
   "source": [
    "pos_focus = ol.ask_zpos()\n",
    "print(f\"pos_focus {pos_focus}\")\n",
    "ol.set_lim_af_sup_and_inf()\n",
    "ol.af()\n",
    "pos_af = ol.ask_zpos()\n",
    "print(f\"pos_af {pos_af}\")\n",
    "ol.set_zpos(pos_focus, move_type='d')\n",
    "ol.ask_zpos()"
   ]
  },
  {
   "cell_type": "markdown",
   "metadata": {},
   "source": [
    "## Cacl offset"
   ]
  },
  {
   "cell_type": "code",
   "execution_count": null,
   "metadata": {},
   "outputs": [],
   "source": [
    "ol.set_zpos(813322, move_type='d')"
   ]
  },
  {
   "cell_type": "code",
   "execution_count": null,
   "metadata": {
    "scrolled": true
   },
   "outputs": [],
   "source": [
    "pos_focus = ol.calc_offset()"
   ]
  },
  {
   "cell_type": "code",
   "execution_count": null,
   "metadata": {},
   "outputs": [],
   "source": [
    "ol.af()"
   ]
  },
  {
   "cell_type": "code",
   "execution_count": null,
   "metadata": {},
   "outputs": [],
   "source": [
    "ol.ask_zpos()"
   ]
  },
  {
   "cell_type": "code",
   "execution_count": null,
   "metadata": {},
   "outputs": [],
   "source": []
  }
 ],
 "metadata": {
  "kernelspec": {
   "display_name": "Python 3",
   "language": "python",
   "name": "python3"
  },
  "language_info": {
   "codemirror_mode": {
    "name": "ipython",
    "version": 3
   },
   "file_extension": ".py",
   "mimetype": "text/x-python",
   "name": "python",
   "nbconvert_exporter": "python",
   "pygments_lexer": "ipython3",
   "version": "3.8.5"
  }
 },
 "nbformat": 4,
 "nbformat_minor": 4
}
