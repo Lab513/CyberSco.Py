{
 "cells": [
  {
   "cell_type": "code",
   "execution_count": null,
   "metadata": {},
   "outputs": [],
   "source": [
    "import os\n",
    "op = os.path\n",
    "opd = op.dirname\n",
    "opj = op.join\n",
    "orig_dir = os.getcwd()"
   ]
  },
  {
   "cell_type": "code",
   "execution_count": null,
   "metadata": {},
   "outputs": [],
   "source": [
    "os.chdir( opj( opd( opd( orig_dir ) ) ) )"
   ]
  },
  {
   "cell_type": "code",
   "execution_count": null,
   "metadata": {},
   "outputs": [],
   "source": [
    "%matplotlib\n",
    "##\n",
    "from glob import glob\n",
    "from pathlib import Path\n",
    "from time import sleep, time\n",
    "import yaml\n",
    "import re\n",
    "import numpy as np\n",
    "from matplotlib import pyplot as plt\n",
    "import cv2\n",
    "##\n",
    "from modules.devices.Olympuslx81 import OLYMP\n",
    "from modules.devices.Prior import PRIOR\n",
    "from modules.devices.Evolve512 import EVOLVE\n",
    "###\n",
    "from tensorflow.keras import models\n",
    "import tensorflow.keras as tfk"
   ]
  },
  {
   "cell_type": "code",
   "execution_count": null,
   "metadata": {},
   "outputs": [],
   "source": [
    "ol = OLYMP()\n",
    "pr = PRIOR()\n",
    "ev = EVOLVE()"
   ]
  },
  {
   "cell_type": "code",
   "execution_count": null,
   "metadata": {},
   "outputs": [],
   "source": [
    "mod_fold = 'Z:/Lionel_Chiron/Projects/AFML/fast_AFML/models_sets/models_dec4th2022/*'\n",
    "lm = glob(mod_fold)\n",
    "# print(lm)"
   ]
  },
  {
   "cell_type": "markdown",
   "metadata": {},
   "source": [
    "## Load the models"
   ]
  },
  {
   "cell_type": "code",
   "execution_count": null,
   "metadata": {},
   "outputs": [],
   "source": [
    "lm_sorted = sorted(lm, key= lambda elem : int(re.findall('lev(-?\\\\d+)', elem)[0]))\n",
    "print(f'lm_sorted { lm_sorted }')\n",
    "list_mod = []\n",
    "t0 = time()\n",
    "print('loading the models for fast AFML.. ')\n",
    "for m in lm_sorted:\n",
    "    list_mod += [models.load_model(m)]\n",
    "t1 = time()\n",
    "# print(f'time elapsed for loading the models is { round((t1-t0)/60,1) } min')"
   ]
  },
  {
   "cell_type": "code",
   "execution_count": null,
   "metadata": {},
   "outputs": [],
   "source": [
    "def take_pic_posz(i, val, bpp=8, move_type='d', show=False):\n",
    "    '''\n",
    "    take the picture at pos posz\n",
    "    '''\n",
    "    ol.go_zpos( val, move_type=move_type )            # 797300 \n",
    "    answ = ol.receive(13)\n",
    "    print(f'answ 0 {answ}')\n",
    "    #addr_img = f'uu{i}.tiff'\n",
    "    addr_img = f'bf_for_optimz{i}.tiff'\n",
    "    ev.take_pic(addr=addr_img, bpp=bpp, exp_time=100)\n",
    "#     ev.handle_contrast(True, bpp)\n",
    "    ev.adapt(bpp)\n",
    "    if show: plt.imshow(ev.frame, cmap='gray')\n",
    "    return ev.frame"
   ]
  },
  {
   "cell_type": "code",
   "execution_count": null,
   "metadata": {},
   "outputs": [],
   "source": [
    "def make_pred(i, mod=None, thresh=127, show=False):\n",
    "    '''\n",
    "    make the prediction and return surface \n",
    "    '''\n",
    "    img = cv2.imread(f'bf_for_optimz{i}.tiff')\n",
    "    arr = np.array([ img ], dtype=np.float32)/255                        # format array for prediction\n",
    "    pred = mod.predict(arr)[0]*255\n",
    "    ##\n",
    "    ll = len( np.where( pred > thresh )[0] )\n",
    "    #print(f'll { ll }')\n",
    "    addr_pred = f'pred_uu{i}.png'\n",
    "    cv2.imwrite(addr_pred, pred)\n",
    "    if show:\n",
    "        plt.figure()\n",
    "        plt.imshow(pred, cmap='gray')\n",
    "    return ll"
   ]
  },
  {
   "cell_type": "code",
   "execution_count": null,
   "metadata": {},
   "outputs": [],
   "source": [
    "def find_z_optim(z, fill_dic_surf=False):\n",
    "    '''\n",
    "    find the optimal focus\n",
    "    z: z position eg: 785400\n",
    "    '''\n",
    "    t0 = time()\n",
    "    step = 20\n",
    "    pic0 = take_pic_posz(0, z , bpp=8, move_type='d')\n",
    "    pic1 = take_pic_posz(1, z + step, bpp=8, move_type='d')\n",
    "    ldiff = []\n",
    "    print('--------')\n",
    "    optim = 0\n",
    "    max_surf = 0\n",
    "    # Applying the models.. \n",
    "    for num, m in enumerate(list_mod):\n",
    "        surf0 = make_pred(0, mod=m, thresh=127, show=False)\n",
    "        surf1 = make_pred(1, mod=m, thresh=127, show=False)\n",
    "        diff = surf1-surf0\n",
    "        if max_surf < surf0:\n",
    "            max_surf = surf0\n",
    "        ldiff += [[surf0, diff]]\n",
    "        print(f'for mod {num}, diff is {diff}')\n",
    "        if fill_dic_surf:\n",
    "            try:\n",
    "                dic_surf[num] += [surf0]\n",
    "            except:\n",
    "                dic_surf[num] = [surf0]\n",
    "    print(f'max_surf = { max_surf }')\n",
    "    for mind,(surf,slope) in enumerate(ldiff):\n",
    "        if surf > max_surf/5 and mind>0:\n",
    "            if np.sign(slope) == -np.sign(old_slope):\n",
    "                if np.abs(slope)< np.abs(old_slope):\n",
    "                    optim = mind\n",
    "                else:\n",
    "                    optim = mind-1\n",
    "                break\n",
    "        old_slope = slope\n",
    "            \n",
    "    \n",
    "    print(f'***** optim is {optim} *****')\n",
    "    t1 = time()\n",
    "    print(f'time elapsed is { round((t1-t0),1) } s')\n",
    "    return optim"
   ]
  },
  {
   "cell_type": "code",
   "execution_count": null,
   "metadata": {},
   "outputs": [],
   "source": [
    "def plot_curves(lcurves):\n",
    "    '''\n",
    "    '''\n",
    "    lposz, lposz_corr, loptim, lsurf0, ldiff2, z, step = lcurves\n",
    "    plt.plot(lposz, label='input')\n",
    "    plt.plot(lposz_corr, label='correction')\n",
    "    plt.legend()\n",
    "    print('finished..')\n",
    "    date = 'dec6th2022'\n",
    "    plt.savefig(f'meth_13mod_stability_zmid{z}_step{step}_{date}.png')\n",
    "    plt.figure()\n",
    "    plt.ylabel('optim')\n",
    "    plt.plot(loptim)\n",
    "    plt.savefig(f'list_optim_zmid{z}_step{step}_{date}.png')\n",
    "    plt.figure()\n",
    "    plt.ylabel('surf model 6')\n",
    "    plt.plot(lsurf0)\n",
    "    plt.savefig(f'list_mod0_zmid{z}_step{step}_{date}.png')\n",
    "    plt.figure()\n",
    "    plt.ylabel('diff model 6')\n",
    "    plt.plot(ldiff2)\n",
    "    plt.savefig(f'list_ldiff2_zmid{z}_step{step}_{date}.png')"
   ]
  },
  {
   "cell_type": "code",
   "execution_count": null,
   "metadata": {},
   "outputs": [],
   "source": [
    "def test_focus_conservation(z,nb_steps=10):\n",
    "    '''\n",
    "    '''\n",
    "    lposz = []\n",
    "    lposz_corr = []\n",
    "    loptim = []\n",
    "    lsurf0 = []\n",
    "    ldiff2 = []\n",
    "    step = 5\n",
    "    delta_mod = 10   # dist from one model to the other.. \n",
    "    for j in range(nb_steps):\n",
    "        print(f'######################## j is {j}')\n",
    "        currz = z + (j-nb_steps//2)*step\n",
    "        for i in range(3):\n",
    "            ol.go_zpos( currz, move_type='d' )\n",
    "        optim = find_z_optim(currz)\n",
    "        loptim += [optim]\n",
    "        ref = (len(list_mod)-1)//2\n",
    "        posz_corr = currz-(optim-ref)*delta_mod #+ 2*(10-optim)\n",
    "        print(f'##################### posz_corr = {posz_corr}')\n",
    "        for i in range(3):\n",
    "            ol.go_zpos( posz_corr, move_type='d' )\n",
    "        take_pic_posz(3+j, posz_corr, bpp=8, move_type='d')\n",
    "        lposz += [currz]\n",
    "        lposz_corr += [posz_corr]\n",
    "#         num_img = (3+j)+100\n",
    "#         addr_img = f'bf_for_optimz{num_img}.tiff'\n",
    "#         ev.take_pic(addr=addr_img, bpp=8, exp_time=100)\n",
    "        surf0 = make_pred(3+j, mod=list_mod[6], thresh=127, show=False)\n",
    "        lsurf0 +=[surf0]\n",
    "        take_pic_posz(3+j+100, posz_corr + step, bpp=8, move_type='d')\n",
    "        surf1 = make_pred(3+j+100, mod=list_mod[6], thresh=127, show=False)\n",
    "        diff = surf1-surf0\n",
    "        ldiff2 += [diff]\n",
    "    lcurves = [lposz, lposz_corr, loptim, lsurf0, ldiff2, z, step]\n",
    "    plot_curves(lcurves)"
   ]
  },
  {
   "cell_type": "code",
   "execution_count": null,
   "metadata": {},
   "outputs": [],
   "source": [
    "test_focus_conservation(830230,nb_steps=30)"
   ]
  },
  {
   "cell_type": "raw",
   "metadata": {},
   "source": [
    "def test_double_optim(z):\n",
    "    '''\n",
    "    '''\n",
    "    lposz = []\n",
    "    for j in range(13):\n",
    "        currz = z + 10*j\n",
    "        optim = find_z_optim(currz)\n",
    "        ref = (len(list_mod)-1)//2\n",
    "        newpos = currz+(ref-optim)*10\n",
    "        optim = find_z_optim(newpos)\n",
    "        newpos = currz+(ref-optim)*10\n",
    "        print(f'##################### newpos = {newpos}')\n",
    "        take_pic_posz(3+j, newpos, bpp=8, move_type='d')\n",
    "        lposz += [newpos]\n",
    "    plt.plot(lposz)\n",
    "    print('finished..')"
   ]
  },
  {
   "cell_type": "raw",
   "metadata": {},
   "source": [
    "test_double_optim(834520)"
   ]
  },
  {
   "cell_type": "raw",
   "metadata": {},
   "source": [
    "for j in range(1):\n",
    "    currz = 834530 + 10*j\n",
    "    optim = find_z_optim(currz)\n",
    "    new_pos = currz+(6-optim)*10\n",
    "    take_pic_posz(100, new_pos , bpp=8, move_type='d')\n",
    "    take_pic_posz(101,  new_pos+ 10, bpp=8, move_type='d')\n",
    "    surf0 = make_pred(100, mod=list_mod[6], thresh=127, show=False)\n",
    "    surf1 = make_pred(101, mod=list_mod[6], thresh=127, show=False)\n",
    "    diff = surf1-surf0\n",
    "    print(f'diff = {diff}')\n",
    "    if diff>0:\n",
    "        new_pos +=10\n",
    "        take_pic_posz(102, new_pos , bpp=8, move_type='d')\n",
    "        take_pic_posz(103,  new_pos+ 10, bpp=8, move_type='d')\n",
    "        surf0 = make_pred(100, mod=list_mod[6], thresh=127, show=False)\n",
    "        surf1 = make_pred(101, mod=list_mod[6], thresh=127, show=False)\n",
    "        diff = surf1-surf0\n",
    "        print(f'diff = {diff}')"
   ]
  },
  {
   "cell_type": "markdown",
   "metadata": {},
   "source": [
    "## make the profiles with zstack"
   ]
  },
  {
   "cell_type": "code",
   "execution_count": null,
   "metadata": {},
   "outputs": [],
   "source": [
    "dic_surf = {}\n",
    "loptim = []\n",
    "nbstep = 40\n",
    "for i in range(0,nbstep):  # 40\n",
    "    print(f'############################## i = {i}')\n",
    "    optim = find_z_optim(830361+(i-nbstep//2)*10,fill_dic_surf=True) # 833600\n",
    "    loptim += [optim]\n",
    "print('finished')"
   ]
  },
  {
   "cell_type": "code",
   "execution_count": null,
   "metadata": {},
   "outputs": [],
   "source": [
    "dir(ol)"
   ]
  },
  {
   "cell_type": "code",
   "execution_count": null,
   "metadata": {},
   "outputs": [],
   "source": [
    "ev.retrieve_autocontrast()"
   ]
  },
  {
   "cell_type": "markdown",
   "metadata": {},
   "source": [
    "## plot the profiles and predictions.. "
   ]
  },
  {
   "cell_type": "code",
   "execution_count": null,
   "metadata": {},
   "outputs": [],
   "source": [
    "allmax = 0\n",
    "for k,v in dic_surf.items():\n",
    "    print(k)\n",
    "    maxsurf = max(dic_surf[k])\n",
    "    if allmax<maxsurf:\n",
    "        allmax=maxsurf\n",
    "fact_norm = (len(list_mod)-1)/allmax\n",
    "for mind, (k,v) in enumerate(dic_surf.items()):\n",
    "    print(k)\n",
    "    plt.plot(np.array(dic_surf[k])*fact_norm, alpha=0.3, label=f'lev{mind}')\n",
    "# for pt in loptim:\n",
    "#     plt.plot(pt,'rx')\n",
    "plt.legend()\n",
    "loptim.insert(0,0)\n",
    "plt.plot(loptim,'rx')\n",
    "    \n",
    "plt.show()"
   ]
  },
  {
   "cell_type": "markdown",
   "metadata": {},
   "source": [
    "##  Controls"
   ]
  },
  {
   "cell_type": "code",
   "execution_count": null,
   "metadata": {},
   "outputs": [],
   "source": [
    "print(ol.ask_zpos())"
   ]
  },
  {
   "cell_type": "code",
   "execution_count": null,
   "metadata": {},
   "outputs": [],
   "source": [
    "for k,v in dic_surf.items():\n",
    "    print(k)\n",
    "    if k!='max':\n",
    "        plt.plot(np.array(dic_surf[k]))"
   ]
  },
  {
   "cell_type": "code",
   "execution_count": null,
   "metadata": {},
   "outputs": [],
   "source": [
    "find_z_optim(834570) # 833812"
   ]
  },
  {
   "cell_type": "code",
   "execution_count": null,
   "metadata": {},
   "outputs": [],
   "source": [
    "curr_pos = 830250\n",
    "for i in range(3):\n",
    "    ol.go_zpos( curr_pos, move_type='d' )"
   ]
  },
  {
   "cell_type": "code",
   "execution_count": null,
   "metadata": {},
   "outputs": [],
   "source": [
    "find_z_optim(curr_pos)"
   ]
  },
  {
   "cell_type": "code",
   "execution_count": null,
   "metadata": {},
   "outputs": [],
   "source": [
    "for i in range(3):\n",
    "    take_pic_posz(301, curr_pos-10 , bpp=8, move_type='d')"
   ]
  },
  {
   "cell_type": "code",
   "execution_count": null,
   "metadata": {},
   "outputs": [],
   "source": [
    "def aa(ll):\n",
    "    a, b, c = ll\n",
    "    print(a,b,c)\n",
    "aa([1,6,7])"
   ]
  },
  {
   "cell_type": "code",
   "execution_count": null,
   "metadata": {},
   "outputs": [],
   "source": []
  }
 ],
 "metadata": {
  "kernelspec": {
   "display_name": "Python 3",
   "language": "python",
   "name": "python3"
  },
  "language_info": {
   "codemirror_mode": {
    "name": "ipython",
    "version": 3
   },
   "file_extension": ".py",
   "mimetype": "text/x-python",
   "name": "python",
   "nbconvert_exporter": "python",
   "pygments_lexer": "ipython3",
   "version": "3.8.5"
  }
 },
 "nbformat": 4,
 "nbformat_minor": 4
}
