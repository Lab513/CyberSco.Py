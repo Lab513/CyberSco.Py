{
 "cells": [
  {
   "cell_type": "raw",
   "metadata": {},
   "source": [
    "https://pypi.org/project/pymsteams/"
   ]
  },
  {
   "cell_type": "code",
   "execution_count": null,
   "metadata": {},
   "outputs": [],
   "source": [
    "import pymsteams\n",
    "\n",
    "# You must create the connectorcard object with the Microsoft Webhook URL\n",
    "webhook_cyber_tests = 'https://institutcurie.webhook.office.com/webhookb2/04317e2a-70e6-4f01-a307-71fd3336ba15@183ad437-6002-48ad-8886-c5885ce9be1a/IncomingWebhook/08ca5fb6b75c4ab29dc45e803ae6da32/622230ca-a59a-4a74-9ed1-72f8ce8b6719'\n",
    "\n",
    "myTeamsMessage = pymsteams.connectorcard(\n",
    "    webhook_cyber_tests,\n",
    "    http_proxy=\"http://www-cache:3128\",\n",
    "    https_proxy=\"https://www-cache:3128\"\n",
    "\n",
    ")\n",
    "# Add text to the message.\n",
    "myTeamsMessage.text(\"simple test\")\n",
    "\n",
    "# send the message.\n",
    "myTeamsMessage.send()"
   ]
  },
  {
   "cell_type": "code",
   "execution_count": null,
   "metadata": {},
   "outputs": [],
   "source": [
    "! pip install pymsteams"
   ]
  },
  {
   "cell_type": "code",
   "execution_count": null,
   "metadata": {},
   "outputs": [],
   "source": []
  }
 ],
 "metadata": {
  "kernelspec": {
   "display_name": "Python 3",
   "language": "python",
   "name": "python3"
  },
  "language_info": {
   "codemirror_mode": {
    "name": "ipython",
    "version": 3
   },
   "file_extension": ".py",
   "mimetype": "text/x-python",
   "name": "python",
   "nbconvert_exporter": "python",
   "pygments_lexer": "ipython3",
   "version": "3.8.5"
  }
 },
 "nbformat": 4,
 "nbformat_minor": 4
}
