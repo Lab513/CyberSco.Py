{
 "cells": [
  {
   "cell_type": "code",
   "execution_count": null,
   "metadata": {},
   "outputs": [],
   "source": [
    "import os\n",
    "op = os.path\n",
    "opd = op.dirname\n",
    "os.chdir(opd(os.getcwd()))"
   ]
  },
  {
   "cell_type": "code",
   "execution_count": null,
   "metadata": {},
   "outputs": [],
   "source": [
    "%matplotlib\n",
    "##\n",
    "import yaml\n",
    "from pathlib import Path\n",
    "from time import sleep, time\n",
    "import numpy as np\n",
    "from matplotlib import pyplot as plt\n",
    "import cv2\n",
    "##\n",
    "from Olympuslx81 import OLYMP\n",
    "from Prior import PRIOR\n",
    "from Evolve512 import EVOLVE\n",
    "###\n",
    "from tensorflow.keras import models\n",
    "import tensorflow.keras as tfk"
   ]
  },
  {
   "cell_type": "code",
   "execution_count": null,
   "metadata": {},
   "outputs": [],
   "source": [
    "ol = OLYMP()\n",
    "pr = PRIOR()\n",
    "ev = EVOLVE()"
   ]
  },
  {
   "cell_type": "code",
   "execution_count": null,
   "metadata": {},
   "outputs": [],
   "source": [
    "dic_mod = {'ep5_v3' : 'training-cell_v3-ep5-bs4-fl_date04-10-2020-13-18'}\n",
    "mod = models.load_model( Path('..') / 'models' / dic_mod['ep5_v3'] ) "
   ]
  },
  {
   "cell_type": "code",
   "execution_count": null,
   "metadata": {},
   "outputs": [],
   "source": [
    "def take_pic_posz(i, val, move_type=None, show=False):\n",
    "    '''\n",
    "    take the picture at pos posz\n",
    "    '''\n",
    "    ol.go_zpos( val, move_type=move_type )            # 797300 \n",
    "    answ = ol.receive(13)\n",
    "    print(f'answ 0 {answ}')\n",
    "    #addr_img = f'uu{i}.tiff'\n",
    "    addr_img = f'bf_for_optimz{i}.tiff'\n",
    "    ev.take_pic(addr_img, bpp=8, exp_time=100)\n",
    "    ev.adapt()\n",
    "    if show: plt.imshow(ev.frame, cmap='gray')\n",
    "    return ev.frame\n",
    "        \n",
    "def make_pred(i, thresh=253, show=False):\n",
    "    '''\n",
    "    make the prediction and return surface \n",
    "    '''\n",
    "    img = cv2.imread(f'bf_for_optimz{i}.tiff')\n",
    "    arr = np.array([ img ], dtype=np.float32)/255                        # format array for prediction\n",
    "    pred = mod.predict(arr)[0]*255\n",
    "    ##\n",
    "    ll = len( np.where( pred > thresh )[0] )\n",
    "    print(f'll { ll }')\n",
    "    addr_pred = f'pred_uu{i}.png'\n",
    "    cv2.imwrite(addr_pred, pred)\n",
    "    if show:\n",
    "        plt.figure()\n",
    "        plt.imshow(pred, cmap='gray')\n",
    "    return ll"
   ]
  },
  {
   "cell_type": "code",
   "execution_count": null,
   "metadata": {},
   "outputs": [],
   "source": [
    "def find_z_optim():\n",
    "    '''\n",
    "    find the optimal focus\n",
    "    '''\n",
    "    t0 = time()\n",
    "    l_surf = []\n",
    "    ref = 785400\n",
    "    step = 200\n",
    "    ol.go_zpos(ref)\n",
    "    for i in range(9):\n",
    "        print(f'i is { i } ')\n",
    "        take_pic_posz(i, ref + i*step, 'd')\n",
    "        l_surf += [ make_pred(i) ]\n",
    "\n",
    "    plt.plot(l_surf)\n",
    "    plt.show()\n",
    "    t1 = time()\n",
    "    print(f'time elapsed is { round((t1-t0),1) } s')\n",
    "    plt.savefig('optim_focus.png')\n",
    "    ind_max = l_surf.index(max(l_surf))\n",
    "    print(f'ind_max is { ind_max }')"
   ]
  },
  {
   "cell_type": "code",
   "execution_count": null,
   "metadata": {},
   "outputs": [],
   "source": [
    "find_z_optim()"
   ]
  },
  {
   "cell_type": "code",
   "execution_count": null,
   "metadata": {},
   "outputs": [],
   "source": []
  }
 ],
 "metadata": {
  "kernelspec": {
   "display_name": "Python 3",
   "language": "python",
   "name": "python3"
  },
  "language_info": {
   "codemirror_mode": {
    "name": "ipython",
    "version": 3
   },
   "file_extension": ".py",
   "mimetype": "text/x-python",
   "name": "python",
   "nbconvert_exporter": "python",
   "pygments_lexer": "ipython3",
   "version": "3.8.5"
  }
 },
 "nbformat": 4,
 "nbformat_minor": 4
}
