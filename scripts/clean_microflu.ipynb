{
 "cells": [
  {
   "cell_type": "code",
   "execution_count": 1,
   "metadata": {
    "scrolled": true
   },
   "outputs": [],
   "source": [
    "from time import sleep\n",
    "import os \n",
    "os.chdir('..')\n",
    "from modules.devices.gates import GATES"
   ]
  },
  {
   "cell_type": "code",
   "execution_count": 2,
   "metadata": {},
   "outputs": [],
   "source": [
    "ga = GATES()"
   ]
  },
  {
   "cell_type": "markdown",
   "metadata": {},
   "source": [
    "### clean the pipes"
   ]
  },
  {
   "cell_type": "code",
   "execution_count": null,
   "metadata": {},
   "outputs": [
    {
     "name": "stdout",
     "output_type": "stream",
     "text": [
      "0th repeat\n",
      "\u001b[32mon\n",
      "\u001b[31moff\n",
      "time elpased is 0 min\n",
      "1th repeat\n",
      "\u001b[32mon\n",
      "\u001b[31moff\n",
      "time elpased is 0 min\n",
      "2th repeat\n",
      "\u001b[32mon\n",
      "\u001b[31moff\n",
      "time elpased is 1 min\n",
      "3th repeat\n",
      "\u001b[32mon\n",
      "\u001b[31moff\n",
      "time elpased is 1 min\n",
      "4th repeat\n",
      "\u001b[32mon\n",
      "\u001b[31moff\n",
      "time elpased is 1 min\n",
      "5th repeat\n",
      "\u001b[32mon\n",
      "\u001b[31moff\n",
      "time elpased is 2 min\n",
      "6th repeat\n",
      "\u001b[32mon\n",
      "\u001b[31moff\n",
      "time elpased is 2 min\n",
      "7th repeat\n",
      "\u001b[32mon\n",
      "\u001b[31moff\n",
      "time elpased is 2 min\n",
      "8th repeat\n",
      "\u001b[32mon\n",
      "\u001b[31moff\n",
      "time elpased is 3 min\n",
      "9th repeat\n",
      "\u001b[32mon\n",
      "\u001b[31moff\n",
      "time elpased is 3 min\n",
      "10th repeat\n",
      "\u001b[32mon\n",
      "\u001b[31moff\n",
      "time elpased is 3 min\n",
      "11th repeat\n",
      "\u001b[32mon\n",
      "\u001b[31moff\n",
      "time elpased is 4 min\n",
      "12th repeat\n",
      "\u001b[32mon\n",
      "\u001b[31moff\n",
      "time elpased is 4 min\n",
      "13th repeat\n",
      "\u001b[32mon\n",
      "\u001b[31moff\n",
      "time elpased is 4 min\n",
      "14th repeat\n",
      "\u001b[32mon\n",
      "\u001b[31moff\n",
      "time elpased is 5 min\n",
      "15th repeat\n",
      "\u001b[32mon\n",
      "\u001b[31moff\n",
      "time elpased is 5 min\n",
      "16th repeat\n",
      "\u001b[32mon\n",
      "\u001b[31moff\n",
      "time elpased is 5 min\n",
      "17th repeat\n",
      "\u001b[32mon\n",
      "\u001b[31moff\n",
      "time elpased is 6 min\n",
      "18th repeat\n",
      "\u001b[32mon\n",
      "\u001b[31moff\n",
      "time elpased is 6 min\n",
      "19th repeat\n",
      "\u001b[32mon\n",
      "\u001b[31moff\n",
      "time elpased is 6 min\n",
      "20th repeat\n",
      "\u001b[32mon\n",
      "\u001b[31moff\n",
      "time elpased is 7 min\n",
      "21th repeat\n",
      "\u001b[32mon\n",
      "\u001b[31moff\n",
      "time elpased is 7 min\n",
      "22th repeat\n",
      "\u001b[32mon\n",
      "\u001b[31moff\n",
      "time elpased is 7 min\n",
      "23th repeat\n",
      "\u001b[32mon\n",
      "\u001b[31moff\n",
      "time elpased is 8 min\n",
      "24th repeat\n",
      "\u001b[32mon\n",
      "\u001b[31moff\n",
      "time elpased is 8 min\n",
      "25th repeat\n",
      "\u001b[32mon\n",
      "\u001b[31moff\n",
      "time elpased is 8 min\n",
      "26th repeat\n",
      "\u001b[32mon\n",
      "\u001b[31moff\n",
      "time elpased is 9 min\n",
      "27th repeat\n",
      "\u001b[32mon\n",
      "\u001b[31moff\n",
      "time elpased is 9 min\n",
      "28th repeat\n",
      "\u001b[32mon\n",
      "\u001b[31moff\n",
      "time elpased is 9 min\n",
      "29th repeat\n",
      "\u001b[32mon\n",
      "\u001b[31moff\n",
      "time elpased is 10 min\n",
      "30th repeat\n",
      "\u001b[32mon\n",
      "\u001b[31moff\n",
      "time elpased is 10 min\n",
      "31th repeat\n",
      "\u001b[32mon\n",
      "\u001b[31moff\n",
      "time elpased is 10 min\n",
      "32th repeat\n",
      "\u001b[32mon\n",
      "\u001b[31moff\n",
      "time elpased is 11 min\n",
      "33th repeat\n",
      "\u001b[32mon\n",
      "\u001b[31moff\n",
      "time elpased is 11 min\n",
      "34th repeat\n",
      "\u001b[32mon\n",
      "\u001b[31moff\n",
      "time elpased is 11 min\n",
      "35th repeat\n",
      "\u001b[32mon\n",
      "\u001b[31moff\n",
      "time elpased is 12 min\n",
      "36th repeat\n",
      "\u001b[32mon\n",
      "\u001b[31moff\n",
      "time elpased is 12 min\n",
      "37th repeat\n",
      "\u001b[32mon\n",
      "\u001b[31moff\n"
     ]
    }
   ],
   "source": [
    "ga.clean_microflu(delay_on=10, delay_off=10, repeat=3000)  # cleaning, repeat=1000 by default"
   ]
  },
  {
   "cell_type": "markdown",
   "metadata": {},
   "source": [
    "### clean specific pipes"
   ]
  },
  {
   "cell_type": "code",
   "execution_count": null,
   "metadata": {},
   "outputs": [],
   "source": [
    "ga.clean_microflu_select(delay_on=2, delay_off=2, repeat=6000, port=100011)  # cleaning, repeat=1000 by default"
   ]
  },
  {
   "cell_type": "markdown",
   "metadata": {},
   "source": [
    "### test the gates"
   ]
  },
  {
   "cell_type": "code",
   "execution_count": null,
   "metadata": {},
   "outputs": [],
   "source": [
    "ga.test_gates_one_by_one(1)  # test the gates"
   ]
  },
  {
   "cell_type": "markdown",
   "metadata": {},
   "source": [
    "### trig all"
   ]
  },
  {
   "cell_type": "code",
   "execution_count": null,
   "metadata": {},
   "outputs": [],
   "source": [
    "ga.set(111111)"
   ]
  },
  {
   "cell_type": "markdown",
   "metadata": {},
   "source": [
    "### stop all"
   ]
  },
  {
   "cell_type": "code",
   "execution_count": null,
   "metadata": {},
   "outputs": [],
   "source": [
    "ga.set(100000)"
   ]
  },
  {
   "cell_type": "code",
   "execution_count": null,
   "metadata": {},
   "outputs": [],
   "source": [
    "ga.set(110000)"
   ]
  },
  {
   "cell_type": "code",
   "execution_count": null,
   "metadata": {},
   "outputs": [],
   "source": [
    "ga.set(100000)"
   ]
  },
  {
   "cell_type": "code",
   "execution_count": null,
   "metadata": {},
   "outputs": [],
   "source": [
    "ga.set(101000)"
   ]
  },
  {
   "cell_type": "code",
   "execution_count": null,
   "metadata": {},
   "outputs": [],
   "source": [
    "ga.set(100000)"
   ]
  },
  {
   "cell_type": "code",
   "execution_count": null,
   "metadata": {},
   "outputs": [],
   "source": [
    "ga.set(100100)"
   ]
  },
  {
   "cell_type": "code",
   "execution_count": null,
   "metadata": {},
   "outputs": [],
   "source": [
    "ga.set(100000)"
   ]
  },
  {
   "cell_type": "code",
   "execution_count": null,
   "metadata": {},
   "outputs": [],
   "source": [
    "ga.set(100010)"
   ]
  },
  {
   "cell_type": "code",
   "execution_count": null,
   "metadata": {},
   "outputs": [],
   "source": [
    "ga.set(100000)"
   ]
  },
  {
   "cell_type": "code",
   "execution_count": null,
   "metadata": {},
   "outputs": [],
   "source": [
    "ga.set(100001)"
   ]
  },
  {
   "cell_type": "code",
   "execution_count": null,
   "metadata": {},
   "outputs": [],
   "source": []
  }
 ],
 "metadata": {
  "kernelspec": {
   "display_name": "Python 3",
   "language": "python",
   "name": "python3"
  },
  "language_info": {
   "codemirror_mode": {
    "name": "ipython",
    "version": 3
   },
   "file_extension": ".py",
   "mimetype": "text/x-python",
   "name": "python",
   "nbconvert_exporter": "python",
   "pygments_lexer": "ipython3",
   "version": "3.8.5"
  }
 },
 "nbformat": 4,
 "nbformat_minor": 4
}
